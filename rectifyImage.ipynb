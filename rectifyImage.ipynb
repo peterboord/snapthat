{
 "cells": [
  {
   "cell_type": "code",
   "execution_count": 1,
   "metadata": {
    "collapsed": false
   },
   "outputs": [
    {
     "data": {
      "text/plain": [
       "(522, 751)"
      ]
     },
     "execution_count": 1,
     "metadata": {},
     "output_type": "execute_result"
    }
   ],
   "source": [
    "%matplotlib inline\n",
    "from __future__ import division\n",
    "from matplotlib import pyplot as plt\n",
    "import numpy as np\n",
    "import cv2\n",
    "#fn = 'img/theFieldHouse.jpg'\n",
    "fn = 'img/hongKong.jpg'\n",
    "img = cv2.imread(fn)\n",
    "gray = cv2.cvtColor(img, cv2.COLOR_BGR2GRAY)\n",
    "H, W = img.shape[:2]\n",
    "H, W"
   ]
  },
  {
   "cell_type": "code",
   "execution_count": 2,
   "metadata": {
    "collapsed": false
   },
   "outputs": [],
   "source": [
    "# Canny\n",
    "cv2.CV_PI = 3.1415926535897932384626433832795\n",
    "thrs1 = 50\n",
    "thrs2 = 200\n",
    "cannyEdge = cv2.Canny(gray, thrs1, thrs2, apertureSize=3)\n",
    "cv2.imshow('Canny', cannyEdge)\n",
    "cv2.imwrite('Canny.jpg',cannyEdge)\n",
    "lines = cv2.HoughLinesP(cannyEdge,1, cv2.CV_PI/180, 80, 30, 10)[:,0,:]"
   ]
  },
  {
   "cell_type": "code",
   "execution_count": 3,
   "metadata": {
    "collapsed": false
   },
   "outputs": [
    {
     "data": {
      "text/plain": [
       "(178, 4)"
      ]
     },
     "execution_count": 3,
     "metadata": {},
     "output_type": "execute_result"
    }
   ],
   "source": [
    "# with Vert\n",
    "color_dst = cv2.cvtColor(cannyEdge,cv2.COLOR_GRAY2BGR)\n",
    "for i in range(0,lines.shape[0]):\n",
    "    cv2.line(color_dst,(lines[i][0],lines[i][1]), (lines[i][2],lines[i][3]),(0,0,255),3,8 )\n",
    "cv2.imshow('withVert', color_dst)\n",
    "cv2.imwrite('withVert.jpg',color_dst)\n",
    "lines.shape"
   ]
  },
  {
   "cell_type": "code",
   "execution_count": 4,
   "metadata": {
    "collapsed": false
   },
   "outputs": [],
   "source": [
    "# without Vert\n",
    "# delete vertical lines\n",
    "vertLines = []\n",
    "for i in range(0,lines.shape[0]):\n",
    "    if lines[i][0] == lines[i][2]:\n",
    "        vertLines.extend([i])\n",
    "lines = np.delete(lines, vertLines, axis=0)\n",
    "\n",
    "# # delete line with max abs slope\n",
    "# m = np.absolute((lines[:,3] - lines[:,1])/(lines[:,2] - lines[:,0]))\n",
    "# lines = np.delete(lines, m.argmax(), axis=0)\n",
    "\n",
    "color_dst = cv2.cvtColor(cannyEdge,cv2.COLOR_GRAY2BGR)\n",
    "for i in range(0,lines.shape[0]):\n",
    "    cv2.line(color_dst,(lines[i][0],lines[i][1]), (lines[i][2],lines[i][3]),(0,0,255),3,8 )\n",
    "cv2.imshow('withoutVert', color_dst)\n",
    "cv2.imwrite('withoutVert.jpg',color_dst)\n",
    "cv2.waitKey(0) \n",
    "cv2.destroyAllWindows()"
   ]
  },
  {
   "cell_type": "code",
   "execution_count": 5,
   "metadata": {
    "collapsed": false
   },
   "outputs": [
    {
     "data": {
      "text/plain": [
       "(297.58681056567804,\n",
       " 1160.5477377260615,\n",
       " -545.6938816844613,\n",
       " 933.51321260112809)"
      ]
     },
     "execution_count": 5,
     "metadata": {},
     "output_type": "execute_result"
    }
   ],
   "source": [
    "import numpy.matlib\n",
    "m = (lines[:,3] - lines[:,1])/(lines[:,2] - lines[:,0])\n",
    "A = np.column_stack( ( np.ones((m.shape[0],)), -m ) )\n",
    "B = lines[:,1] - m*lines[:,0]\n",
    "#B = lines[:,3] - m*lines[:,2]\n",
    "# reduce LSE sensitivity to large slopes\n",
    "A[m!=0,:]=A[m!=0,:]/np.matlib.repmat(np.absolute(m[m!=0])[:,np.newaxis],1,2)\n",
    "B[m!=0]=B[m!=0]/np.absolute(m[m!=0])\n",
    "x = np.linalg.lstsq(A, B)\n",
    "g = x[0][0]\n",
    "d = x[0][1]\n",
    "#d = 3 * x[0][1]\n",
    "g,d\n",
    "#x\n",
    "a = g + d*g/(W - d)\n",
    "b = g + d*(g - H)/(W - d)\n",
    "g, d, a, b"
   ]
  },
  {
   "cell_type": "code",
   "execution_count": null,
   "metadata": {
    "collapsed": true
   },
   "outputs": [],
   "source": [
    "# residuals\n"
   ]
  },
  {
   "cell_type": "code",
   "execution_count": 15,
   "metadata": {
    "collapsed": false
   },
   "outputs": [
    {
     "data": {
      "image/png": "[encoded data removed]",
      "text/plain": [
       "<matplotlib.figure.Figure at 0x7f73e94410d0>"
      ]
     },
     "metadata": {},
     "output_type": "display_data"
    }
   ],
   "source": [
    "import math\n",
    "import matplotlib.pyplot as plt\n",
    "\n",
    "from skimage.io import imread, imsave\n",
    "from skimage import transform as tf\n",
    "\n",
    "src = np.array([[0, 0], [0, H], [W, H], [W, 0]])\n",
    "dst = np.array([[0, a], [0, b], [W, H], [W, 0]])\n",
    "\n",
    "tform3 = tf.ProjectiveTransform()\n",
    "tform3.estimate(src, dst)\n",
    "warped = tf.warp(gray, tform3, output_shape=img.shape)\n",
    "imsave('warped.jpg',warped)\n",
    "cv2.imshow('warped',warped)\n",
    "\n",
    "fig, figAx = plt.subplots(nrows=2, figsize=(8, 3))\n",
    "\n",
    "figAx[0].imshow(gray, cmap=plt.cm.gray)\n",
    "figAx[0].plot(dst[:, 0], dst[:, 1], '.r')\n",
    "figAx[1].imshow(warped, cmap=plt.cm.gray)\n",
    "\n",
    "for ax in figAx:\n",
    "    ax.axis('off')\n",
    "    \n",
    "cv2.waitKey(0) \n",
    "cv2.destroyAllWindows()"
   ]
  },
  {
   "cell_type": "code",
   "execution_count": null,
   "metadata": {
    "collapsed": false
   },
   "outputs": [],
   "source": []
  },
  {
   "cell_type": "code",
   "execution_count": null,
   "metadata": {
    "collapsed": false
   },
   "outputs": [],
   "source": [
    "# attempt using Sobel derivates did not work...\n",
    "# ksize = 3\n",
    "# # dx = cv2.Sobel(gray, cv2.CV_16S, 1, 0, ksize)\n",
    "# # dy = cv2.Sobel(gray, cv2.CV_16S, 0, 1, ksize)\n",
    "# dx = cv2.Scharr(gray, cv2.CV_16S, 1, 0)\n",
    "# dy = cv2.Scharr(gray, cv2.CV_16S, 0, 1)\n",
    "# with np.errstate(divide='ignore', invalid='ignore'):\n",
    "#     m = np.true_divide(dy,dx)\n",
    "# m[ dx == 0 ] = 0\n",
    "# # # http://opencv-python-tutroals.readthedocs.io/en/latest/py_tutorials/py_feature2d/py_features_harris/py_features_harris.html\n",
    "# # k = 0.04\n",
    "# # eig = cv2.cornerEigenValsAndVecs(gray, 5, 3)\n",
    "# # eigVal0 = eig[:,:,0]\n",
    "# # eigVal1 = eig[:,:,1]\n",
    "# # R = np.multiply(eigVal0,eigVal1) - k*(eigVal0 + eigVal1)**2\n",
    "# # isEdge = R < 0\n",
    "\n",
    "# # # discard non-edges\n",
    "# # m[np.logical_not(isEdge)] = 0\n",
    "# # cv2.imshow('posSlope', np.multiply(m, m > 0))\n",
    "# # cv2.imshow('negSlope', -1*np.multiply(m, m < 0))\n",
    "# # cv2.waitKey(0) \n",
    "# # cv2.destroyAllWindows()\n",
    "\n",
    "# hwIdx = np.unravel_index(range(0,H*W),(H, W))\n",
    "# hIdx = hwIdx[0]\n",
    "# wIdx = hwIdx[1]\n",
    "# m = np.reshape(m,[-1,])\n",
    "\n",
    "\n",
    "# #isEdge = np.reshape(isEdge,[-1,])\n",
    "\n",
    "\n",
    "# # # bl2tr = -\n",
    "# # # limit slope values\n",
    "# # m_thresh = 0.5*h/w\n",
    "# # selectEdge = np.logical_and(isEdge, np.absolute(m) < m_thresh)\n",
    "# # # only consider selected edges\n",
    "# # hIdx = hIdx[selectEdge]\n",
    "# # wIdx = wIdx[selectEdge]\n",
    "# # m = m[selectEdge]\n",
    "# # a = np.column_stack( ( np.ones((m.shape[0],)), m ) )\n",
    "# # b = hIdx - m*wIdx\n",
    "# # x = np.linalg.lstsq(a,b)\n",
    "# # x\n",
    "\n",
    "# # bl2tr = +\n",
    "# # limit slope values\n",
    "# m_thresh = 0.8*H/W\n",
    "# #cannyEdge =np.reshape(cannyEdge,[-1,])\n",
    "# #selectEdge = np.logical_and(np.logical_and(isEdge, np.absolute(m) < m_thresh), cannyEdge > 0)\n",
    "\n",
    "# selectEdge = m != 0\n",
    "# #selectEdge = isEdge\n",
    "\n",
    "# # only consider selected edges\n",
    "# hIdx = hIdx[selectEdge]\n",
    "# wIdx = wIdx[selectEdge]\n",
    "# m = m[selectEdge]\n",
    "# # Solve Ax = B\n",
    "# A = np.column_stack( ( np.ones((m.shape[0],)), -m ) )\n",
    "# B = hIdx + m*wIdx\n",
    "# x = np.linalg.lstsq(A, B)\n",
    "# g = x[0][0]\n",
    "# # Why x[0][1] is negative?!?\n",
    "# # And why is Sobel output negated?? ... related?\n",
    "# d = x[0][1]\n",
    "# a = g - d*g/(d + W)\n",
    "# b = d*(H - g)/(d + W) + g\n",
    "# a,b,g,d"
   ]
  },
  {
   "cell_type": "code",
   "execution_count": null,
   "metadata": {
    "collapsed": false
   },
   "outputs": [],
   "source": []
  },
  {
   "cell_type": "code",
   "execution_count": null,
   "metadata": {
    "collapsed": true
   },
   "outputs": [],
   "source": [
    "# unused stuff\n",
    "#\n",
    "# k = 0.04\n",
    "# eig = cv2.cornerEigenValsAndVecs(gray, 5, 3)\n",
    "# eigVal0 = eig[:,:,0]\n",
    "# eigVal1 = eig[:,:,1]\n",
    "# x0 = eig[:,:,2]\n",
    "# y0 = eig[:,:,3]\n",
    "# x1 = eig[:,:,4]\n",
    "# y1 = eig[:,:,5]\n",
    "# # http://opencv-python-tutroals.readthedocs.io/en/latest/py_tutorials/py_feature2d/py_features_harris/py_features_harris.html\n",
    "# R = np.multiply(eigVal0,eigVal1) - k*(eigVal0 + eigVal1)**2\n",
    "# isEdge = R < 0\n",
    "# with np.errstate(divide='ignore', invalid='ignore'):\n",
    "#     m0 = np.true_divide(y0,x0)\n",
    "# m0[ x0 == 0 ] = 0\n",
    "# with np.errstate(divide='ignore', invalid='ignore'):\n",
    "#     m1 = np.true_divide(y1,x1)\n",
    "# m1[ x1 == 0 ] = 0\n",
    "# m = np.multiply(eigVal0 > eigVal1, m0) + np.multiply(eigVal1 > eigVal0, m1)\n",
    "# hwIdx = np.unravel_index(range(0,h*w),(h,w))\n",
    "# hIdx = hwIdx[0]\n",
    "# wIdx = hwIdx[1]\n",
    "# m = np.reshape(m,[-1,])\n",
    "# isEdge = np.reshape(isEdge,[-1,])\n",
    "# # only consider edges\n",
    "# hIdx = hIdx[isEdge]\n",
    "# wIdx = wIdx[isEdge]\n",
    "# m = m[isEdge]\n",
    "\n",
    "\n",
    "# # edgeSlopes = np.multiply(isEdge,m)\n",
    "# # posSlopeEdge = np.multiply(edgeSlopes, edgeSlopes > 0)\n",
    "# # negSlopeEdge = np.multiply(edgeSlopes, edgeSlopes < 0)\n",
    "# # cv2.imshow('posSlope', posSlopeEdge)\n",
    "# # cv2.imshow('negSlope', -1*negSlopeEdge)\n",
    "# # cv2.waitKey(0) \n",
    "# # cv2.destroyAllWindows()\n"
   ]
  }
 ],
 "metadata": {
  "anaconda-cloud": {},
  "kernelspec": {
   "display_name": "Python [conda root]",
   "language": "python",
   "name": "conda-root-py"
  },
  "language_info": {
   "codemirror_mode": {
    "name": "ipython",
    "version": 2
   },
   "file_extension": ".py",
   "mimetype": "text/x-python",
   "name": "python",
   "nbconvert_exporter": "python",
   "pygments_lexer": "ipython2",
   "version": "2.7.12"
  }
 },
 "nbformat": 4,
 "nbformat_minor": 1
}
