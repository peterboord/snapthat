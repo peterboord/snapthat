{
 "cells": [
  {
   "cell_type": "code",
   "execution_count": 11,
   "metadata": {
    "collapsed": false
   },
   "outputs": [
    {
     "data": {
      "text/plain": [
       "(375, 500)"
      ]
     },
     "execution_count": 11,
     "metadata": {},
     "output_type": "execute_result"
    }
   ],
   "source": [
    "%matplotlib inline\n",
    "from __future__ import division\n",
    "from matplotlib import pyplot as plt\n",
    "import numpy as np\n",
    "import cv2\n",
    "fn = 'theFieldHouse.jpg'\n",
    "img = cv2.imread(fn)\n",
    "gray = cv2.cvtColor(img, cv2.COLOR_BGR2GRAY)\n",
    "H, W = img.shape[:2]\n",
    "H, W"
   ]
  },
  {
   "cell_type": "code",
   "execution_count": 12,
   "metadata": {
    "collapsed": false
   },
   "outputs": [],
   "source": [
    "cv2.CV_PI = 3.1415926535897932384626433832795\n",
    "thrs1 = 50\n",
    "thrs2 = 200\n",
    "cannyEdge = cv2.Canny(gray, thrs1, thrs2, apertureSize=3)\n",
    "cv2.imshow('Canny', cannyEdge)\n",
    "lines = cv2.HoughLinesP(cannyEdge,1, cv2.CV_PI/180, 80, 30, 10)"
   ]
  },
  {
   "cell_type": "code",
   "execution_count": 13,
   "metadata": {
    "collapsed": false
   },
   "outputs": [
    {
     "data": {
      "text/plain": [
       "(103, 1, 4)"
      ]
     },
     "execution_count": 13,
     "metadata": {},
     "output_type": "execute_result"
    }
   ],
   "source": [
    "color_dst = cv2.cvtColor(cannyEdge,cv2.COLOR_GRAY2BGR)\n",
    "for i in range(0,lines.shape[0]):\n",
    "    cv2.line(color_dst,(lines[i][0][0],lines[i][0][1]), (lines[i][0][2],lines[i][0][3]),(0,0,255),3,8 )\n",
    "cv2.imshow('withVert', color_dst)\n",
    "lines.shape"
   ]
  },
  {
   "cell_type": "code",
   "execution_count": 14,
   "metadata": {
    "collapsed": false
   },
   "outputs": [],
   "source": [
    "vertLines = []\n",
    "for i in range(0,lines.shape[0]):\n",
    "    if lines[i][0][0] == lines[i][0][2]:\n",
    "        vertLines.extend([i])\n",
    "lines = np.delete(lines, vertLines, axis=0)"
   ]
  },
  {
   "cell_type": "code",
   "execution_count": 15,
   "metadata": {
    "collapsed": false
   },
   "outputs": [
    {
     "data": {
      "text/plain": [
       "(79, 1, 4)"
      ]
     },
     "execution_count": 15,
     "metadata": {},
     "output_type": "execute_result"
    }
   ],
   "source": [
    "color_dst = cv2.cvtColor(cannyEdge,cv2.COLOR_GRAY2BGR)\n",
    "for i in range(0,lines.shape[0]):\n",
    "    cv2.line(color_dst,(lines[i][0][0],lines[i][0][1]), (lines[i][0][2],lines[i][0][3]),(0,0,255),3,8 )\n",
    "lines.shape"
   ]
  },
  {
   "cell_type": "code",
   "execution_count": 16,
   "metadata": {
    "collapsed": false
   },
   "outputs": [],
   "source": [
    "cv2.imshow('withoutVert', color_dst)\n",
    "cv2.waitKey(0) \n",
    "cv2.destroyAllWindows()"
   ]
  },
  {
   "cell_type": "code",
   "execution_count": null,
   "metadata": {
    "collapsed": true
   },
   "outputs": [],
   "source": []
  },
  {
   "cell_type": "code",
   "execution_count": null,
   "metadata": {
    "collapsed": false
   },
   "outputs": [],
   "source": [
    "import sys\n",
    "from PIL import Image, ImageDraw\n",
    "tst = gray.copy()\n",
    "tst[:,:] = 0\n",
    "tst = Image.fromarray(tst)\n",
    "draw = ImageDraw.Draw(tst)\n",
    "\n",
    "\n",
    "\n",
    "\n",
    "g=200\n",
    "d=400\n",
    "a = g - d*g/(d + W)\n",
    "b = d*(H - g)/(d + W) + g\n",
    "print a,b\n",
    "# intersection points\n",
    "ip = np.arange(50,H,30)\n",
    "for h in ip:\n",
    "    print h\n",
    "    if 0 <= h < a:\n",
    "        x = d*h/(g-h)\n",
    "        draw.line((0, h, x, 0), fill=255)\n",
    "    elif a <= h < b:\n",
    "        y = (d*g - (g - h)*(d + W))/d\n",
    "        draw.line((0, h, W, y), fill=255)\n",
    "    elif b <= h:\n",
    "        pass\n",
    "#         x = (d*(H-g) - d*(b-g))/(b-g)\n",
    "#         draw.line((0, h, x, H), fill=128)\n",
    "del draw\n",
    "tst.save('tst.png', \"PNG\")"
   ]
  },
  {
   "cell_type": "code",
   "execution_count": null,
   "metadata": {
    "collapsed": false
   },
   "outputs": [],
   "source": [
    "#tstImg = np.reshape(list(tst.getdata()),[H,W])\n",
    "gray = cv2.imread('tst.png')\n",
    "gray = cv2.cvtColor(gray, cv2.COLOR_BGR2GRAY)\n",
    "cv2.imshow('gray', gray)\n",
    "cv2.waitKey(0) \n",
    "cv2.destroyAllWindows()"
   ]
  },
  {
   "cell_type": "code",
   "execution_count": null,
   "metadata": {
    "collapsed": false
   },
   "outputs": [],
   "source": [
    "ksize = 3\n",
    "# dx = cv2.Sobel(gray, cv2.CV_16S, 1, 0, ksize)\n",
    "# dy = cv2.Sobel(gray, cv2.CV_16S, 0, 1, ksize)\n",
    "dx = cv2.Scharr(gray, cv2.CV_16S, 1, 0)\n",
    "dy = cv2.Scharr(gray, cv2.CV_16S, 0, 1)\n",
    "with np.errstate(divide='ignore', invalid='ignore'):\n",
    "    m = np.true_divide(dy,dx)\n",
    "m[ dx == 0 ] = 0\n",
    "# # http://opencv-python-tutroals.readthedocs.io/en/latest/py_tutorials/py_feature2d/py_features_harris/py_features_harris.html\n",
    "# k = 0.04\n",
    "# eig = cv2.cornerEigenValsAndVecs(gray, 5, 3)\n",
    "# eigVal0 = eig[:,:,0]\n",
    "# eigVal1 = eig[:,:,1]\n",
    "# R = np.multiply(eigVal0,eigVal1) - k*(eigVal0 + eigVal1)**2\n",
    "# isEdge = R < 0\n",
    "\n",
    "# # discard non-edges\n",
    "# m[np.logical_not(isEdge)] = 0\n",
    "# cv2.imshow('posSlope', np.multiply(m, m > 0))\n",
    "# cv2.imshow('negSlope', -1*np.multiply(m, m < 0))\n",
    "# cv2.waitKey(0) \n",
    "# cv2.destroyAllWindows()\n",
    "\n",
    "hwIdx = np.unravel_index(range(0,H*W),(H, W))\n",
    "hIdx = hwIdx[0]\n",
    "wIdx = hwIdx[1]\n",
    "m = np.reshape(m,[-1,])\n",
    "\n",
    "\n",
    "#isEdge = np.reshape(isEdge,[-1,])\n",
    "\n",
    "\n",
    "# # bl2tr = -\n",
    "# # limit slope values\n",
    "# m_thresh = 0.5*h/w\n",
    "# selectEdge = np.logical_and(isEdge, np.absolute(m) < m_thresh)\n",
    "# # only consider selected edges\n",
    "# hIdx = hIdx[selectEdge]\n",
    "# wIdx = wIdx[selectEdge]\n",
    "# m = m[selectEdge]\n",
    "# a = np.column_stack( ( np.ones((m.shape[0],)), m ) )\n",
    "# b = hIdx - m*wIdx\n",
    "# x = np.linalg.lstsq(a,b)\n",
    "# x\n",
    "\n",
    "# bl2tr = +\n",
    "# limit slope values\n",
    "m_thresh = 0.8*H/W\n",
    "#cannyEdge =np.reshape(cannyEdge,[-1,])\n",
    "#selectEdge = np.logical_and(np.logical_and(isEdge, np.absolute(m) < m_thresh), cannyEdge > 0)\n",
    "\n",
    "selectEdge = m != 0\n",
    "#selectEdge = isEdge\n",
    "\n",
    "# only consider selected edges\n",
    "hIdx = hIdx[selectEdge]\n",
    "wIdx = wIdx[selectEdge]\n",
    "m = m[selectEdge]\n",
    "# Solve Ax = B\n",
    "A = np.column_stack( ( np.ones((m.shape[0],)), -m ) )\n",
    "B = hIdx + m*wIdx\n",
    "x = np.linalg.lstsq(A, B)\n",
    "g = x[0][0]\n",
    "# Why x[0][1] is negative?!?\n",
    "# And why is Sobel output negated?? ... related?\n",
    "d = x[0][1]\n",
    "a = g - d*g/(d + W)\n",
    "b = d*(H - g)/(d + W) + g\n",
    "a,b,g,d"
   ]
  },
  {
   "cell_type": "code",
   "execution_count": null,
   "metadata": {
    "collapsed": false
   },
   "outputs": [],
   "source": [
    "A.shape,B.shape"
   ]
  },
  {
   "cell_type": "code",
   "execution_count": null,
   "metadata": {
    "collapsed": false
   },
   "outputs": [],
   "source": [
    "Z=np.column_stack((A,B))"
   ]
  },
  {
   "cell_type": "code",
   "execution_count": null,
   "metadata": {
    "collapsed": false
   },
   "outputs": [],
   "source": [
    "A"
   ]
  },
  {
   "cell_type": "code",
   "execution_count": null,
   "metadata": {
    "collapsed": true
   },
   "outputs": [],
   "source": [
    "USV=np.linalg.svd(Z)"
   ]
  },
  {
   "cell_type": "code",
   "execution_count": null,
   "metadata": {
    "collapsed": false
   },
   "outputs": [],
   "source": [
    "USV"
   ]
  },
  {
   "cell_type": "code",
   "execution_count": null,
   "metadata": {
    "collapsed": false
   },
   "outputs": [],
   "source": [
    "U=USV[0]\n",
    "S=USV[1]\n",
    "V=USV[2]"
   ]
  },
  {
   "cell_type": "code",
   "execution_count": null,
   "metadata": {
    "collapsed": false
   },
   "outputs": [],
   "source": [
    "VXY=V[0:2,2]\n",
    "VXY"
   ]
  },
  {
   "cell_type": "code",
   "execution_count": null,
   "metadata": {
    "collapsed": false
   },
   "outputs": [],
   "source": [
    "VYY=V[2,2]\n",
    "VYY"
   ]
  },
  {
   "cell_type": "code",
   "execution_count": null,
   "metadata": {
    "collapsed": false
   },
   "outputs": [],
   "source": [
    "B = -VXY/VYY\n",
    "B"
   ]
  },
  {
   "cell_type": "code",
   "execution_count": null,
   "metadata": {
    "collapsed": false
   },
   "outputs": [],
   "source": [
    "plt.plot(m)\n",
    "plt.show()"
   ]
  },
  {
   "cell_type": "code",
   "execution_count": null,
   "metadata": {
    "collapsed": false
   },
   "outputs": [],
   "source": [
    "m"
   ]
  },
  {
   "cell_type": "code",
   "execution_count": null,
   "metadata": {
    "collapsed": false
   },
   "outputs": [],
   "source": [
    "import math\n",
    "import matplotlib.pyplot as plt\n",
    "\n",
    "from skimage.io import imread, imsave\n",
    "from skimage import transform as tf\n",
    "\n",
    "src = np.array([[0, 0], [0, H], [W, H], [W, 0]])\n",
    "dst = np.array([[0, a], [0, b], [W, H], [W, 0]])\n",
    "\n",
    "tform3 = tf.ProjectiveTransform()\n",
    "tform3.estimate(src, dst)\n",
    "warped = tf.warp(gray, tform3, output_shape=gray.shape)\n",
    "#cv2.imshow('warped',warped)\n",
    "\n",
    "fig, ax = plt.subplots(nrows=2, figsize=(8, 3))\n",
    "\n",
    "ax[0].imshow(gray, cmap=plt.cm.gray)\n",
    "ax[0].plot(dst[:, 0], dst[:, 1], '.r')\n",
    "ax[1].imshow(warped, cmap=plt.cm.gray)\n",
    "\n",
    "for a in ax:\n",
    "    a.axis('off')\n",
    "    \n",
    "cv2.waitKey(0) \n",
    "cv2.destroyAllWindows()"
   ]
  },
  {
   "cell_type": "code",
   "execution_count": null,
   "metadata": {
    "collapsed": false
   },
   "outputs": [],
   "source": [
    "x[0][0], x[0][1]"
   ]
  },
  {
   "cell_type": "code",
   "execution_count": null,
   "metadata": {
    "collapsed": false
   },
   "outputs": [],
   "source": [
    "edgeSlopes = np.multiply(isEdge,m)"
   ]
  },
  {
   "cell_type": "code",
   "execution_count": null,
   "metadata": {
    "collapsed": true
   },
   "outputs": [],
   "source": [
    "posSlopeEdge = np.multiply(edgeSlopes, edgeSlopes > 0)"
   ]
  },
  {
   "cell_type": "code",
   "execution_count": null,
   "metadata": {
    "collapsed": false
   },
   "outputs": [],
   "source": [
    "thrs1 = 100\n",
    "thrs2 = 300\n",
    "cannyEdge = cv2.Canny(gray, thrs1, thrs2, apertureSize=3)\n",
    "cv2.imshow('Canny', edge)\n",
    "cv2.waitKey(0) \n",
    "cv2.destroyAllWindows()"
   ]
  },
  {
   "cell_type": "code",
   "execution_count": null,
   "metadata": {
    "collapsed": true
   },
   "outputs": [],
   "source": [
    "negSlopeEdge = np.multiply(edgeSlopes, edgeSlopes < 0)"
   ]
  },
  {
   "cell_type": "code",
   "execution_count": null,
   "metadata": {
    "collapsed": false
   },
   "outputs": [],
   "source": [
    "min(negSlopeEdge)"
   ]
  },
  {
   "cell_type": "code",
   "execution_count": null,
   "metadata": {
    "collapsed": false
   },
   "outputs": [],
   "source": [
    "aa = np.array([[1,2],[3,4]])\n",
    "np.reshape(aa,[-1,])"
   ]
  },
  {
   "cell_type": "code",
   "execution_count": null,
   "metadata": {
    "collapsed": false
   },
   "outputs": [],
   "source": [
    "xy=np.unravel_index(range(0,2*2),(2,2))\n",
    "xy"
   ]
  },
  {
   "cell_type": "code",
   "execution_count": null,
   "metadata": {
    "collapsed": false
   },
   "outputs": [],
   "source": [
    "aa[xy]"
   ]
  },
  {
   "cell_type": "code",
   "execution_count": null,
   "metadata": {
    "collapsed": false
   },
   "outputs": [],
   "source": [
    "aa[0,0],aa[0,1],aa[1,0],aa[1,1]"
   ]
  },
  {
   "cell_type": "code",
   "execution_count": null,
   "metadata": {
    "collapsed": false
   },
   "outputs": [],
   "source": [
    "a.shape,max(wIdx),max(hIdx)"
   ]
  },
  {
   "cell_type": "code",
   "execution_count": null,
   "metadata": {
    "collapsed": false
   },
   "outputs": [],
   "source": [
    "edgeSlopes = np.multiply(isEdge,m)\n",
    "posSlopeEdge = np.multiply(edgeSlopes, edgeSlopes > 0)\n",
    "negSlopeEdge = np.multiply(edgeSlopes, edgeSlopes < 0)\n",
    "cv2.imshow('posSlope', posSlopeEdge)\n",
    "cv2.imshow('negSlope', -1*negSlopeEdge)\n",
    "cv2.waitKey(0) \n",
    "cv2.destroyAllWindows()"
   ]
  },
  {
   "cell_type": "code",
   "execution_count": null,
   "metadata": {
    "collapsed": true
   },
   "outputs": [],
   "source": [
    "m[ dx == 0 ] = 0"
   ]
  },
  {
   "cell_type": "code",
   "execution_count": null,
   "metadata": {
    "collapsed": false
   },
   "outputs": [],
   "source": [
    "np.sum(1*(posSlopeEdge!=0))"
   ]
  },
  {
   "cell_type": "code",
   "execution_count": null,
   "metadata": {
    "collapsed": false
   },
   "outputs": [],
   "source": [
    "a = np.column_stack( ( np.ones((m.shape[0],)), -m ) )\n",
    "b = hIdx - m*wIdx\n",
    "c = np.linalg.lstsq(a,b)\n",
    "c"
   ]
  },
  {
   "cell_type": "code",
   "execution_count": null,
   "metadata": {
    "collapsed": false
   },
   "outputs": [],
   "source": [
    "k = 0.04\n",
    "eig = cv2.cornerEigenValsAndVecs(gray, 5, 3)\n",
    "eigVal0 = eig[:,:,0]\n",
    "eigVal1 = eig[:,:,1]\n",
    "x0 = eig[:,:,2]\n",
    "y0 = eig[:,:,3]\n",
    "x1 = eig[:,:,4]\n",
    "y1 = eig[:,:,5]\n",
    "# http://opencv-python-tutroals.readthedocs.io/en/latest/py_tutorials/py_feature2d/py_features_harris/py_features_harris.html\n",
    "R = np.multiply(eigVal0,eigVal1) - k*(eigVal0 + eigVal1)**2\n",
    "isEdge = R < 0\n",
    "with np.errstate(divide='ignore', invalid='ignore'):\n",
    "    m0 = np.true_divide(y0,x0)\n",
    "m0[ x0 == 0 ] = 0\n",
    "with np.errstate(divide='ignore', invalid='ignore'):\n",
    "    m1 = np.true_divide(y1,x1)\n",
    "m1[ x1 == 0 ] = 0\n",
    "m = np.multiply(eigVal0 > eigVal1, m0) + np.multiply(eigVal1 > eigVal0, m1)\n",
    "hwIdx = np.unravel_index(range(0,h*w),(h,w))\n",
    "hIdx = hwIdx[0]\n",
    "wIdx = hwIdx[1]\n",
    "m = np.reshape(m,[-1,])\n",
    "isEdge = np.reshape(isEdge,[-1,])\n",
    "# only consider edges\n",
    "hIdx = hIdx[isEdge]\n",
    "wIdx = wIdx[isEdge]\n",
    "m = m[isEdge]\n",
    "\n",
    "\n",
    "# edgeSlopes = np.multiply(isEdge,m)\n",
    "# posSlopeEdge = np.multiply(edgeSlopes, edgeSlopes > 0)\n",
    "# negSlopeEdge = np.multiply(edgeSlopes, edgeSlopes < 0)\n",
    "# cv2.imshow('posSlope', posSlopeEdge)\n",
    "# cv2.imshow('negSlope', -1*negSlopeEdge)\n",
    "# cv2.waitKey(0) \n",
    "# cv2.destroyAllWindows()\n",
    "\n"
   ]
  },
  {
   "cell_type": "code",
   "execution_count": null,
   "metadata": {
    "collapsed": false
   },
   "outputs": [],
   "source": [
    "a = np.column_stack( ( np.ones((m.shape[0],)), -m ) )\n",
    "b = hIdx - m*wIdx\n",
    "c = np.linalg.lstsq(a,b)\n",
    "c"
   ]
  },
  {
   "cell_type": "code",
   "execution_count": null,
   "metadata": {
    "collapsed": false
   },
   "outputs": [],
   "source": [
    "-m"
   ]
  },
  {
   "cell_type": "code",
   "execution_count": null,
   "metadata": {
    "collapsed": false
   },
   "outputs": [],
   "source": [
    "\n",
    "b.shape"
   ]
  },
  {
   "cell_type": "code",
   "execution_count": null,
   "metadata": {
    "collapsed": false
   },
   "outputs": [],
   "source": [
    "c = np.linalg.lstsq(a,b)\n",
    "c"
   ]
  },
  {
   "cell_type": "code",
   "execution_count": null,
   "metadata": {
    "collapsed": false
   },
   "outputs": [],
   "source": [
    "cv2.imshow('edges', edges)\n",
    "cv2.waitKey(0) \n",
    "cv2.destroyAllWindows()"
   ]
  },
  {
   "cell_type": "code",
   "execution_count": null,
   "metadata": {
    "collapsed": false
   },
   "outputs": [],
   "source": [
    "\n",
    "eigen = eigen.reshape(h, w, 3, 2)  # [[e1, e2], v1, v2]\n",
    "flow = eigen[:,:,2]\n",
    "\n",
    "vis = img.copy()\n",
    "vis[:] = (192 + np.uint32(vis)) / 2\n",
    "d = 12\n",
    "points =  np.dstack( np.mgrid[d/2:w:d, d/2:h:d] ).reshape(-1, 2)\n",
    "for x, y in points:\n",
    "   vx, vy = np.int32(flow[y, x]*d)\n",
    "   cv2.line(vis, (x-vx, y-vy), (x+vx, y+vy), (0, 0, 0), 1)\n",
    "cv2.imshow('input', img)\n",
    "cv2.imshow('flow', vis)\n",
    "cv2.waitKey(0) \n",
    "cv2.destroyAllWindows()"
   ]
  },
  {
   "cell_type": "code",
   "execution_count": null,
   "metadata": {
    "collapsed": false
   },
   "outputs": [],
   "source": [
    "a=np.array([[1,2],[3,4]])\n",
    "a"
   ]
  },
  {
   "cell_type": "code",
   "execution_count": null,
   "metadata": {
    "collapsed": false
   },
   "outputs": [],
   "source": [
    "np.linalg.matrix_power(a,2)"
   ]
  },
  {
   "cell_type": "code",
   "execution_count": null,
   "metadata": {
    "collapsed": false
   },
   "outputs": [],
   "source": [
    "a**2"
   ]
  },
  {
   "cell_type": "code",
   "execution_count": null,
   "metadata": {
    "collapsed": true
   },
   "outputs": [],
   "source": []
  }
 ],
 "metadata": {
  "anaconda-cloud": {},
  "kernelspec": {
   "display_name": "Python [conda root]",
   "language": "python",
   "name": "conda-root-py"
  },
  "language_info": {
   "codemirror_mode": {
    "name": "ipython",
    "version": 2
   },
   "file_extension": ".py",
   "mimetype": "text/x-python",
   "name": "python",
   "nbconvert_exporter": "python",
   "pygments_lexer": "ipython2",
   "version": "2.7.12"
  }
 },
 "nbformat": 4,
 "nbformat_minor": 1
}
