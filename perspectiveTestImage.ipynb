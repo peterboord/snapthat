{
 "cells": [
  {
   "cell_type": "code",
   "execution_count": null,
   "metadata": {
    "collapsed": true
   },
   "outputs": [],
   "source": [
    "import sys\n",
    "from PIL import Image, ImageDraw\n",
    "tst = gray.copy()\n",
    "tst[:,:] = 0\n",
    "tst = Image.fromarray(tst)\n",
    "draw = ImageDraw.Draw(tst)\n",
    "\n",
    "\n",
    "\n",
    "\n",
    "g=200\n",
    "d=400\n",
    "a = g - d*g/(d + W)\n",
    "b = d*(H - g)/(d + W) + g\n",
    "print a,b\n",
    "# intersection points\n",
    "ip = np.arange(50,H,30)\n",
    "for h in ip:\n",
    "    print h\n",
    "    if 0 <= h < a:\n",
    "        x = d*h/(g-h)\n",
    "        draw.line((0, h, x, 0), fill=255)\n",
    "    elif a <= h < b:\n",
    "        y = (d*g - (g - h)*(d + W))/d\n",
    "        draw.line((0, h, W, y), fill=255)\n",
    "    elif b <= h:\n",
    "        pass\n",
    "#         x = (d*(H-g) - d*(b-g))/(b-g)\n",
    "#         draw.line((0, h, x, H), fill=128)\n",
    "del draw\n",
    "tst.save('tst.png', \"PNG\")\n",
    "# #tstImg = np.reshape(list(tst.getdata()),[H,W])\n",
    "# gray = cv2.imread('tst.png')\n",
    "# gray = cv2.cvtColor(gray, cv2.COLOR_BGR2GRAY)\n",
    "# cv2.imshow('gray', gray)\n",
    "# cv2.waitKey(0) \n",
    "# cv2.destroyAllWindows()"
   ]
  }
 ],
 "metadata": {
  "kernelspec": {
   "display_name": "Python [conda root]",
   "language": "python",
   "name": "conda-root-py"
  },
  "language_info": {
   "codemirror_mode": {
    "name": "ipython",
    "version": 2
   },
   "file_extension": ".py",
   "mimetype": "text/x-python",
   "name": "python",
   "nbconvert_exporter": "python",
   "pygments_lexer": "ipython2",
   "version": "2.7.12"
  }
 },
 "nbformat": 4,
 "nbformat_minor": 1
}
