{
 "cells": [
  {
   "cell_type": "code",
   "execution_count": 3,
   "metadata": {
    "collapsed": false
   },
   "outputs": [],
   "source": [
    "\"\"\"\n",
    "Vanishing point and line marker estimation from a single camera image.\n",
    "\n",
    "\"\"\"\n",
    "\n",
    "import os\n",
    "import time\n",
    "import numpy as np\n",
    "import cv2\n",
    "from matplotlib import pyplot as plt\n",
    "# from mvq import stereo_path\n",
    "# from mvq.filters.lane_marker import lane_marker_filter\n",
    "# from mvq.detectors.ransac_vanishing_point import ransac_vanishing_point_detection"
   ]
  },
  {
   "cell_type": "code",
   "execution_count": 9,
   "metadata": {
    "collapsed": true
   },
   "outputs": [],
   "source": [
    "\n",
    "\n",
    "\n",
    "def find_vanishing_point(img, show=False):\n",
    "    \"\"\"\n",
    "    Calculate the vanishing point of the road markers.\n",
    "\n",
    "    :param img: Image of a road from a driving car\n",
    "    :return: Coordinates of the road vanishing point\n",
    "    \"\"\"\n",
    "\n",
    "#     # Filter to find the lane markers\n",
    "#     filtered_img = lane_marker_filter(img, tau=10)\n",
    "\n",
    "#     # Erode the smaller features away, make lane lines thinner\n",
    "#     kernel = cv2.getStructuringElement(cv2.MORPH_ELLIPSE, (3, 3))\n",
    "#     filtered_img = cv2.erode(filtered_img, kernel=kernel)\n",
    "    filtered_img = img\n",
    "\n",
    "    # Calculate hough lines\n",
    "    lines = cv2.HoughLinesP(\n",
    "        image=filtered_img,\n",
    "        rho=1,\n",
    "        theta=np.pi*1/180,\n",
    "        threshold=10,\n",
    "        minLineLength=120,\n",
    "        maxLineGap=80\n",
    "    )\n",
    "\n",
    "    if lines is None:\n",
    "        lines = []\n",
    "\n",
    "    # Create a copy of the input to draw lines on\n",
    "    img_copy = np.array(img)\n",
    "    img_copy = cv2.cvtColor(img_copy, cv2.COLOR_GRAY2BGR)\n",
    "\n",
    "    lines = [line[0] for line in lines]\n",
    "\n",
    "    for line in lines:\n",
    "        x1, y1, x2, y2 = line\n",
    "        p1 = (x1, y1)\n",
    "        p2 = (x2, y2)\n",
    "        cv2.line(img_copy, p1, p2, (255, 255, 0), 2)\n",
    "\n",
    "    vanishing_point = ransac_vanishing_point_detection(lines, 5, 20)\n",
    "\n",
    "    if vanishing_point is None:\n",
    "        vanishing_point = 650, 175\n",
    "\n",
    "    vanishing_point = vanishing_point[0], (vanishing_point[1] - 50)\n",
    "    print(vanishing_point)\n",
    "\n",
    "    # Plot the vanishing point\n",
    "    cv2.circle(img_copy, vanishing_point, 1, (255, 0, 0), 20)\n",
    "\n",
    "    if show:\n",
    "        # Plot\n",
    "        plt.figure()\n",
    "        plt.subplot(211), plt.imshow(img_copy, 'gray')\n",
    "        plt.title('Input image with Hough lines and vanishing point')\n",
    "        plt.subplot(212), plt.imshow(filtered_img, 'gray')\n",
    "        plt.title('Lane marker detection filter')\n",
    "\n",
    "    return vanishing_point\n",
    "\n",
    "\n",
    "def find_holy_triangle(img, left_x, right_x):\n",
    "    vanishing_point = find_vanishing_point(cv2.cvtColor(img, cv2.COLOR_RGB2GRAY))\n",
    "\n",
    "    max_y = img.shape[0]\n",
    "\n",
    "    out_im = np.zeros( (img.shape[0], img.shape[1]) )\n",
    "    for y in range(img.shape[0]):\n",
    "        for x in range(img.shape[1]):\n",
    "            left_line1 = (np.sign( (vanishing_point[0]-right_x)*(y-max_y) - (vanishing_point[1]-max_y)*(x-right_x) ) == -1) # left of line 1\n",
    "            right_line2 = (np.sign( (vanishing_point[0]-left_x)*(y-max_y) - (vanishing_point[1]-max_y)*(x-left_x) ) == 1) # right of line 2\n",
    "            if (left_line1 & right_line2):\n",
    "                out_im[y,x] = 1.0\n",
    "\n",
    "    return out_im\n",
    "\n"
   ]
  },
  {
   "cell_type": "code",
   "execution_count": 4,
   "metadata": {
    "collapsed": false
   },
   "outputs": [],
   "source": [
    "img = cv2.imread(os.path.join('/home/pboord/Downloads/yelp', 'theFieldHouse_bw.jpg'), cv2.IMREAD_GRAYSCALE)\n",
    "    \n"
   ]
  },
  {
   "cell_type": "code",
   "execution_count": 5,
   "metadata": {
    "collapsed": false
   },
   "outputs": [
    {
     "data": {
      "text/plain": [
       "array([[254, 254, 255, ...,  20,  24,  29],\n",
       "       [254, 254, 255, ...,  22,  25,  31],\n",
       "       [254, 254, 255, ...,  36,  37,  42],\n",
       "       ..., \n",
       "       [138, 139, 137, ...,  28,  30,  29],\n",
       "       [131, 138, 137, ...,  25,  25,  25],\n",
       "       [125, 133, 131, ...,  20,  19,  19]], dtype=uint8)"
      ]
     },
     "execution_count": 5,
     "metadata": {},
     "output_type": "execute_result"
    }
   ],
   "source": [
    "img"
   ]
  },
  {
   "cell_type": "code",
   "execution_count": 10,
   "metadata": {
    "collapsed": false
   },
   "outputs": [
    {
     "ename": "NameError",
     "evalue": "global name 'ransac_vanishing_point_detection' is not defined",
     "output_type": "error",
     "traceback": [
      "\u001b[0;31m---------------------------------------------------------------------------\u001b[0m",
      "\u001b[0;31mNameError\u001b[0m                                 Traceback (most recent call last)",
      "\u001b[0;32m<ipython-input-10-6a3bf7493ed1>\u001b[0m in \u001b[0;36m<module>\u001b[0;34m()\u001b[0m\n\u001b[0;32m----> 1\u001b[0;31m \u001b[0mfind_vanishing_point\u001b[0m\u001b[0;34m(\u001b[0m\u001b[0mimg\u001b[0m\u001b[0;34m)\u001b[0m\u001b[0;34m\u001b[0m\u001b[0m\n\u001b[0m\u001b[1;32m      2\u001b[0m \u001b[0mplt\u001b[0m\u001b[0;34m.\u001b[0m\u001b[0mshow\u001b[0m\u001b[0;34m(\u001b[0m\u001b[0;34m)\u001b[0m\u001b[0;34m\u001b[0m\u001b[0m\n",
      "\u001b[0;32m<ipython-input-9-3e90cb68ddf6>\u001b[0m in \u001b[0;36mfind_vanishing_point\u001b[0;34m(img, show)\u001b[0m\n\u001b[1;32m     43\u001b[0m         \u001b[0mcv2\u001b[0m\u001b[0;34m.\u001b[0m\u001b[0mline\u001b[0m\u001b[0;34m(\u001b[0m\u001b[0mimg_copy\u001b[0m\u001b[0;34m,\u001b[0m \u001b[0mp1\u001b[0m\u001b[0;34m,\u001b[0m \u001b[0mp2\u001b[0m\u001b[0;34m,\u001b[0m \u001b[0;34m(\u001b[0m\u001b[0;36m255\u001b[0m\u001b[0;34m,\u001b[0m \u001b[0;36m255\u001b[0m\u001b[0;34m,\u001b[0m \u001b[0;36m0\u001b[0m\u001b[0;34m)\u001b[0m\u001b[0;34m,\u001b[0m \u001b[0;36m2\u001b[0m\u001b[0;34m)\u001b[0m\u001b[0;34m\u001b[0m\u001b[0m\n\u001b[1;32m     44\u001b[0m \u001b[0;34m\u001b[0m\u001b[0m\n\u001b[0;32m---> 45\u001b[0;31m     \u001b[0mvanishing_point\u001b[0m \u001b[0;34m=\u001b[0m \u001b[0mransac_vanishing_point_detection\u001b[0m\u001b[0;34m(\u001b[0m\u001b[0mlines\u001b[0m\u001b[0;34m,\u001b[0m \u001b[0;36m5\u001b[0m\u001b[0;34m,\u001b[0m \u001b[0;36m20\u001b[0m\u001b[0;34m)\u001b[0m\u001b[0;34m\u001b[0m\u001b[0m\n\u001b[0m\u001b[1;32m     46\u001b[0m \u001b[0;34m\u001b[0m\u001b[0m\n\u001b[1;32m     47\u001b[0m     \u001b[0;32mif\u001b[0m \u001b[0mvanishing_point\u001b[0m \u001b[0;32mis\u001b[0m \u001b[0mNone\u001b[0m\u001b[0;34m:\u001b[0m\u001b[0;34m\u001b[0m\u001b[0m\n",
      "\u001b[0;31mNameError\u001b[0m: global name 'ransac_vanishing_point_detection' is not defined"
     ]
    }
   ],
   "source": [
    "    find_vanishing_point(img)\n",
    "    plt.show()"
   ]
  }
 ],
 "metadata": {
  "kernelspec": {
   "display_name": "Python [conda root]",
   "language": "python",
   "name": "conda-root-py"
  },
  "language_info": {
   "codemirror_mode": {
    "name": "ipython",
    "version": 2
   },
   "file_extension": ".py",
   "mimetype": "text/x-python",
   "name": "python",
   "nbconvert_exporter": "python",
   "pygments_lexer": "ipython2",
   "version": "2.7.12"
  }
 },
 "nbformat": 4,
 "nbformat_minor": 1
}
